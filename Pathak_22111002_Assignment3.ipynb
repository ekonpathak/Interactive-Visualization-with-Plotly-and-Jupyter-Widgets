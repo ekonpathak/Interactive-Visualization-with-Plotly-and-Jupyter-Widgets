{
 "cells": [
  {
   "cell_type": "markdown",
   "id": "23a1c90a",
   "metadata": {},
   "source": [
    "# Assignment 3 - CS661A"
   ]
  },
  {
   "cell_type": "code",
   "execution_count": 1,
   "id": "eb0d5432",
   "metadata": {},
   "outputs": [],
   "source": [
    "import pyvista as pv\n",
    "import plotly.graph_objects as go\n",
    "import ipywidgets as widgets\n",
    "import numpy as np"
   ]
  },
  {
   "cell_type": "code",
   "execution_count": 2,
   "id": "3ed0ed69",
   "metadata": {},
   "outputs": [],
   "source": [
    "# Load the VTI file using PyVista\n",
    "filename = 'mixture.vti'\n",
    "grid = pv.read(filename)\n",
    "\n",
    "# Extract the data arrays from the grid\n",
    "x, y, z = grid.points.T\n",
    "data  = grid.get_array('ImageFile')\n",
    "values = grid.get_array('ImageFile')\n",
    "data_array = grid.get_array('ImageFile')"
   ]
  },
  {
   "cell_type": "code",
   "execution_count": 3,
   "id": "15e056d7",
   "metadata": {},
   "outputs": [],
   "source": [
    "# Create isosurface\n",
    "isosurface_trace = go.Isosurface(\n",
    "    x=x,\n",
    "    y=y,\n",
    "    z=z,\n",
    "    value=values,\n",
    "    isomin=0,\n",
    "    isomax=0,\n",
    "    surface_count=1,\n",
    "    colorscale=\"plasma\",\n",
    "    showscale=False,\n",
    "    cmin= np.min(data_array),\n",
    "    cmax= np.max(data_array),\n",
    "    )"
   ]
  },
  {
   "cell_type": "code",
   "execution_count": 4,
   "id": "0b568224",
   "metadata": {},
   "outputs": [],
   "source": [
    "# Create a histogram trace\n",
    "histogram_trace = go.Histogram(\n",
    "    x=values.flatten(),\n",
    "    nbinsx=30,\n",
    "    marker=dict(\n",
    "        color='rgba(0, 0, 255, 0.7)',\n",
    "    ),\n",
    "    \n",
    "    opacity=0.75,\n",
    ")"
   ]
  },
  {
   "cell_type": "code",
   "execution_count": null,
   "id": "5114d28c",
   "metadata": {},
   "outputs": [],
   "source": []
  },
  {
   "cell_type": "code",
   "execution_count": 5,
   "id": "9c87c4bd",
   "metadata": {},
   "outputs": [],
   "source": [
    "# Create a reset button widget\n",
    "reset_button = widgets.Button(description=\"Reset\")"
   ]
  },
  {
   "cell_type": "code",
   "execution_count": 6,
   "id": "2912c610",
   "metadata": {},
   "outputs": [],
   "source": [
    "# Create a slider widget\n",
    "slider = widgets.FloatSlider(\n",
    "    value=0,\n",
    "    min=np.min(data_array),\n",
    "    max=np.max(data_array),\n",
    "    step=0.01,\n",
    "    description=\"Isovalue\",\n",
    "    orientation=\"horizontal\",\n",
    "    readout_format=\".2f\",\n",
    "    layout=widgets.Layout(width='50%'),\n",
    ")"
   ]
  },
  {
   "cell_type": "code",
   "execution_count": null,
   "id": "965a2895",
   "metadata": {},
   "outputs": [],
   "source": []
  },
  {
   "cell_type": "code",
   "execution_count": 7,
   "id": "d405f6c8",
   "metadata": {},
   "outputs": [],
   "source": [
    "def update_isosurface(change):\n",
    "#     print(change.old,change.new)\n",
    "    if(change.old!=0.0):\n",
    "        isovalue = change.new\n",
    "        fig_iso.data[0].isomin = change.new \n",
    "        fig_iso.data[0].isomax = change.new \n",
    "        fig_iso.data[0].reversescale=True\n",
    "        subset = data[(isovalue - 0.25 <= data) & (data <= isovalue + 0.25)]\n",
    "    # Update the histogram trace\n",
    "        fig_his.data[0].x = subset\n",
    "    # Update the histogram layout\n",
    "        fig_his.update_layout(\n",
    "        xaxis_title=\"Vortex Scalar Value\",\n",
    "        yaxis_title=\"Frequency\",\n",
    "        xaxis_range=[isovalue - 0.25, isovalue + 0.25]\n",
    "    )\n",
    "        \n",
    "    \n",
    "    \n",
    "    "
   ]
  },
  {
   "cell_type": "code",
   "execution_count": 8,
   "id": "964b4922",
   "metadata": {},
   "outputs": [],
   "source": [
    "# Attach the callback function to the slider\n",
    "\n"
   ]
  },
  {
   "cell_type": "code",
   "execution_count": 9,
   "id": "e2f46294",
   "metadata": {},
   "outputs": [],
   "source": [
    "def reset_plot(reset_button):\n",
    "    slider.value=0.0\n",
    "    fig_iso.data[0].isomin = 0\n",
    "    fig_iso.data[0].isomax = 0\n",
    "    # Update the histogram trace\n",
    "    fig_his.data[0].x = values.flatten()\n",
    "    fig_his.data[0].x=data[( - 1<= data) & (data <= 0.5)]\n",
    "    # Update the histogram layout\n",
    "    fig_his.update_layout(\n",
    "        \n",
    "        xaxis_range=[np.min(values),np.max(values)]\n",
    "    )\n",
    "    \n",
    "\n"
   ]
  },
  {
   "cell_type": "code",
   "execution_count": 10,
   "id": "fdb62d00",
   "metadata": {
    "scrolled": false
   },
   "outputs": [
    {
     "data": {
      "application/vnd.jupyter.widget-view+json": {
       "model_id": "53c8d6de588143758f24869565bac35c",
       "version_major": 2,
       "version_minor": 0
      },
      "text/plain": [
       "VBox(children=(HBox(children=(FloatSlider(value=0.0, description='Isovalue', layout=Layout(width='50%'), max=0…"
      ]
     },
     "metadata": {},
     "output_type": "display_data"
    }
   ],
   "source": [
    "fig_iso = go.FigureWidget()\n",
    "fig_his = go.FigureWidget()\n",
    "fig_iso.add_trace(isosurface_trace)\n",
    "\n",
    "fig_his.update_layout(xaxis_title=\"Vortex Scalar Data\",\n",
    "    yaxis_title=\"Frequency\",    \n",
    ")\n",
    "\n",
    "fig_iso.update_layout(scene=dict(xaxis=dict(showticklabels=False),\n",
    "                                 yaxis=dict(showticklabels=False),\n",
    "                                 zaxis=dict(showticklabels=False)))\n",
    "\n",
    "fig_his.add_trace(histogram_trace)\n",
    "slider.observe(update_isosurface, \"value\")\n",
    "reset_button.on_click(reset_plot)\n",
    "# reset_button.on_click(slider.observe(update_isosurface, 0))\n",
    "display(widgets.VBox([widgets.HBox([slider, reset_button]), widgets.HBox([fig_iso,fig_his])]))\n",
    "\n"
   ]
  },
  {
   "cell_type": "code",
   "execution_count": null,
   "id": "d8b251a6",
   "metadata": {},
   "outputs": [],
   "source": []
  },
  {
   "cell_type": "code",
   "execution_count": null,
   "id": "dddf44d4",
   "metadata": {},
   "outputs": [],
   "source": []
  }
 ],
 "metadata": {
  "kernelspec": {
   "display_name": "Python 3 (ipykernel)",
   "language": "python",
   "name": "python3"
  },
  "language_info": {
   "codemirror_mode": {
    "name": "ipython",
    "version": 3
   },
   "file_extension": ".py",
   "mimetype": "text/x-python",
   "name": "python",
   "nbconvert_exporter": "python",
   "pygments_lexer": "ipython3",
   "version": "3.10.7"
  }
 },
 "nbformat": 4,
 "nbformat_minor": 5
}
